{
 "cells": [
  {
   "cell_type": "code",
   "execution_count": 66,
   "metadata": {},
   "outputs": [],
   "source": [
    "import numpy as np"
   ]
  },
  {
   "cell_type": "markdown",
   "metadata": {},
   "source": [
    "# 1. Даны значения зарплат из выборки..."
   ]
  },
  {
   "cell_type": "code",
   "execution_count": 67,
   "metadata": {},
   "outputs": [
    {
     "name": "stdout",
     "output_type": "stream",
     "text": [
      "Среднее арифметическое M(X)=65.3\n",
      "Среднее квадратичное отклонение S(X)=30.823854398825596\n",
      "Смещенная оценка D(X)=950.11\n",
      "Несмещенная оценка дисперсии Dn(X)=1000.1157894736842\n"
     ]
    }
   ],
   "source": [
    "x = np.array([100, 80, 75, 77, 89, 33, 45, 25, 65, 17, 30, 24, 57, 55, 70, 75, 65, 84, 90, 150])\n",
    "M = np.sum(x)/len(x)\n",
    "print(f'Среднее арифметическое M(X)={M}')\n",
    "S = np.sqrt(np.sum((x-M)**2)/len(x))\n",
    "print(f'Среднее квадратичное отклонение S(X)={S}')\n",
    "D = np.sum((x-M)**2)/len(x)\n",
    "print(f'Смещенная оценка D(X)={D}')\n",
    "Dn = np.sum((x-M)**2)/(len(x)-1)\n",
    "print(f'Несмещенная оценка дисперсии Dn(X)={Dn}')"
   ]
  },
  {
   "cell_type": "markdown",
   "metadata": {},
   "source": [
    "# 2. В первом ящике 8 мячей, ..."
   ]
  },
  {
   "cell_type": "code",
   "execution_count": 68,
   "metadata": {},
   "outputs": [],
   "source": [
    "from math import factorial\n",
    "def combinations(n, k):\n",
    "    return int(factorial(n) / (factorial(k) * factorial(n - k)))"
   ]
  },
  {
   "cell_type": "code",
   "execution_count": 69,
   "metadata": {},
   "outputs": [
    {
     "data": {
      "image/png": "[encoded data removed]",
      "text/latex": [
       "$\\displaystyle 0.12626262626262627$"
      ],
      "text/plain": [
       "0.12626262626262627"
      ]
     },
     "execution_count": 69,
     "metadata": {},
     "output_type": "execute_result"
    }
   ],
   "source": [
    "# Вытаскиваем 2 из первого ящика и 1 из второго\n",
    "p1 = (combinations(5, 2)*combinations(3, 0)/combinations(8, 2))*(combinations(5, 1)*combinations(7, 3)/combinations(12, 4))\n",
    "p1"
   ]
  },
  {
   "cell_type": "code",
   "execution_count": 70,
   "metadata": {},
   "outputs": [
    {
     "data": {
      "image/png": "[encoded data removed]",
      "text/latex": [
       "$\\displaystyle 0.22727272727272727$"
      ],
      "text/plain": [
       "0.22727272727272727"
      ]
     },
     "execution_count": 70,
     "metadata": {},
     "output_type": "execute_result"
    }
   ],
   "source": [
    "# Вытаскиваем 1 из первого ящика и 2 из второго\n",
    "p2 = (combinations(5, 1)*combinations(3, 1)/combinations(8, 2))*(combinations(5, 2)*combinations(7, 2)/combinations(12, 4))\n",
    "p2"
   ]
  },
  {
   "cell_type": "code",
   "execution_count": 71,
   "metadata": {},
   "outputs": [
    {
     "data": {
      "image/png": "[encoded data removed]",
      "text/latex": [
       "$\\displaystyle 0.01515151515151515$"
      ],
      "text/plain": [
       "0.01515151515151515"
      ]
     },
     "execution_count": 71,
     "metadata": {},
     "output_type": "execute_result"
    }
   ],
   "source": [
    "# Вытаскиваем 0 из первого ящика и 3 из второго\n",
    "p3 = (combinations(5, 0)*combinations(3, 2)/combinations(8, 2))*(combinations(5, 3)*combinations(7, 1)/combinations(12, 4))\n",
    "p3"
   ]
  },
  {
   "cell_type": "code",
   "execution_count": 72,
   "metadata": {},
   "outputs": [
    {
     "name": "stdout",
     "output_type": "stream",
     "text": [
      "Вероятность того, что 3 мяча белые: 0.3686868686868687\n"
     ]
    }
   ],
   "source": [
    "p = p1 + p2 + p3\n",
    "print(f'Вероятность того, что 3 мяча белые: {p}')"
   ]
  },
  {
   "cell_type": "code",
   "execution_count": null,
   "metadata": {},
   "outputs": [],
   "source": []
  }
 ],
 "metadata": {
  "kernelspec": {
   "display_name": "Python 3",
   "language": "python",
   "name": "python3"
  },
  "language_info": {
   "codemirror_mode": {
    "name": "ipython",
    "version": 3
   },
   "file_extension": ".py",
   "mimetype": "text/x-python",
   "name": "python",
   "nbconvert_exporter": "python",
   "pygments_lexer": "ipython3",
   "version": "3.8.5"
  }
 },
 "nbformat": 4,
 "nbformat_minor": 4
}
